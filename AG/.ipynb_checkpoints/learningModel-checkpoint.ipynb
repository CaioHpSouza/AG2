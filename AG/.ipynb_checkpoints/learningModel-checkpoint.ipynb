{
 "cells": [
  {
   "cell_type": "markdown",
   "metadata": {},
   "source": [
    "# Modelo de aprendizado de máquina para classificar dados relacionados a crédito"
   ]
  },
  {
   "cell_type": "markdown",
   "metadata": {},
   "source": [
    "## Importações"
   ]
  },
  {
   "cell_type": "code",
   "execution_count": 73,
   "metadata": {},
   "outputs": [],
   "source": [
    "import mysql.connector as mysql\n",
    "import pandas as pd\n",
    "import numpy as np\n",
    "import matplotlib.pyplot as plt\n",
    "import seaborn as sns\n",
    "from pymysql import connect\n",
    "from sklearn.model_selection import train_test_split\n",
    "from sklearn.linear_model import Perceptron\n",
    "from sklearn.metrics import accuracy_score\n",
    "from sklearn.metrics import classification_report"
   ]
  },
  {
   "cell_type": "markdown",
   "metadata": {},
   "source": [
    "## Leitura do banco de dados"
   ]
  },
  {
   "cell_type": "code",
   "execution_count": 5,
   "metadata": {},
   "outputs": [],
   "source": [
    "data_base = connect(host='localhost',\n",
    "                         user = 'root',\n",
    "                         passwd = 'rootroot',\n",
    "                    database = 'statlog')"
   ]
  },
  {
   "cell_type": "code",
   "execution_count": 11,
   "metadata": {
    "scrolled": true
   },
   "outputs": [
    {
     "data": {
      "text/html": [
       "<div>\n",
       "<style scoped>\n",
       "    .dataframe tbody tr th:only-of-type {\n",
       "        vertical-align: middle;\n",
       "    }\n",
       "\n",
       "    .dataframe tbody tr th {\n",
       "        vertical-align: top;\n",
       "    }\n",
       "\n",
       "    .dataframe thead th {\n",
       "        text-align: right;\n",
       "    }\n",
       "</style>\n",
       "<table border=\"1\" class=\"dataframe\">\n",
       "  <thead>\n",
       "    <tr style=\"text-align: right;\">\n",
       "      <th></th>\n",
       "      <th>id</th>\n",
       "      <th>laufkont</th>\n",
       "      <th>laufzeit</th>\n",
       "      <th>moral</th>\n",
       "      <th>verw</th>\n",
       "      <th>hoehe</th>\n",
       "      <th>sparkont</th>\n",
       "      <th>beszeit</th>\n",
       "      <th>rate</th>\n",
       "      <th>famges</th>\n",
       "      <th>...</th>\n",
       "      <th>verm</th>\n",
       "      <th>jahre</th>\n",
       "      <th>weitkred</th>\n",
       "      <th>wohn</th>\n",
       "      <th>bishkred</th>\n",
       "      <th>beruf</th>\n",
       "      <th>pers</th>\n",
       "      <th>telef</th>\n",
       "      <th>gastarb</th>\n",
       "      <th>kredit</th>\n",
       "    </tr>\n",
       "  </thead>\n",
       "  <tbody>\n",
       "    <tr>\n",
       "      <th>0</th>\n",
       "      <td>1</td>\n",
       "      <td>1</td>\n",
       "      <td>18</td>\n",
       "      <td>4</td>\n",
       "      <td>2</td>\n",
       "      <td>1049</td>\n",
       "      <td>1</td>\n",
       "      <td>2</td>\n",
       "      <td>4</td>\n",
       "      <td>2</td>\n",
       "      <td>...</td>\n",
       "      <td>2</td>\n",
       "      <td>21</td>\n",
       "      <td>3</td>\n",
       "      <td>1</td>\n",
       "      <td>1</td>\n",
       "      <td>3</td>\n",
       "      <td>2</td>\n",
       "      <td>1</td>\n",
       "      <td>2</td>\n",
       "      <td>1</td>\n",
       "    </tr>\n",
       "    <tr>\n",
       "      <th>1</th>\n",
       "      <td>2</td>\n",
       "      <td>1</td>\n",
       "      <td>9</td>\n",
       "      <td>4</td>\n",
       "      <td>0</td>\n",
       "      <td>2799</td>\n",
       "      <td>1</td>\n",
       "      <td>3</td>\n",
       "      <td>2</td>\n",
       "      <td>3</td>\n",
       "      <td>...</td>\n",
       "      <td>1</td>\n",
       "      <td>36</td>\n",
       "      <td>3</td>\n",
       "      <td>1</td>\n",
       "      <td>2</td>\n",
       "      <td>3</td>\n",
       "      <td>1</td>\n",
       "      <td>1</td>\n",
       "      <td>2</td>\n",
       "      <td>1</td>\n",
       "    </tr>\n",
       "    <tr>\n",
       "      <th>2</th>\n",
       "      <td>3</td>\n",
       "      <td>2</td>\n",
       "      <td>12</td>\n",
       "      <td>2</td>\n",
       "      <td>9</td>\n",
       "      <td>841</td>\n",
       "      <td>2</td>\n",
       "      <td>4</td>\n",
       "      <td>2</td>\n",
       "      <td>2</td>\n",
       "      <td>...</td>\n",
       "      <td>1</td>\n",
       "      <td>23</td>\n",
       "      <td>3</td>\n",
       "      <td>1</td>\n",
       "      <td>1</td>\n",
       "      <td>2</td>\n",
       "      <td>2</td>\n",
       "      <td>1</td>\n",
       "      <td>2</td>\n",
       "      <td>1</td>\n",
       "    </tr>\n",
       "    <tr>\n",
       "      <th>3</th>\n",
       "      <td>4</td>\n",
       "      <td>1</td>\n",
       "      <td>12</td>\n",
       "      <td>4</td>\n",
       "      <td>0</td>\n",
       "      <td>2122</td>\n",
       "      <td>1</td>\n",
       "      <td>3</td>\n",
       "      <td>3</td>\n",
       "      <td>3</td>\n",
       "      <td>...</td>\n",
       "      <td>1</td>\n",
       "      <td>39</td>\n",
       "      <td>3</td>\n",
       "      <td>1</td>\n",
       "      <td>2</td>\n",
       "      <td>2</td>\n",
       "      <td>1</td>\n",
       "      <td>1</td>\n",
       "      <td>1</td>\n",
       "      <td>1</td>\n",
       "    </tr>\n",
       "    <tr>\n",
       "      <th>4</th>\n",
       "      <td>5</td>\n",
       "      <td>1</td>\n",
       "      <td>12</td>\n",
       "      <td>4</td>\n",
       "      <td>0</td>\n",
       "      <td>2171</td>\n",
       "      <td>1</td>\n",
       "      <td>3</td>\n",
       "      <td>4</td>\n",
       "      <td>3</td>\n",
       "      <td>...</td>\n",
       "      <td>2</td>\n",
       "      <td>38</td>\n",
       "      <td>1</td>\n",
       "      <td>2</td>\n",
       "      <td>2</td>\n",
       "      <td>2</td>\n",
       "      <td>2</td>\n",
       "      <td>1</td>\n",
       "      <td>1</td>\n",
       "      <td>1</td>\n",
       "    </tr>\n",
       "  </tbody>\n",
       "</table>\n",
       "<p>5 rows × 22 columns</p>\n",
       "</div>"
      ],
      "text/plain": [
       "   id  laufkont  laufzeit  moral  verw  hoehe  sparkont  beszeit  rate  \\\n",
       "0   1         1        18      4     2   1049         1        2     4   \n",
       "1   2         1         9      4     0   2799         1        3     2   \n",
       "2   3         2        12      2     9    841         2        4     2   \n",
       "3   4         1        12      4     0   2122         1        3     3   \n",
       "4   5         1        12      4     0   2171         1        3     4   \n",
       "\n",
       "   famges  ...  verm  jahre  weitkred  wohn  bishkred  beruf  pers  telef  \\\n",
       "0       2  ...     2     21         3     1         1      3     2      1   \n",
       "1       3  ...     1     36         3     1         2      3     1      1   \n",
       "2       2  ...     1     23         3     1         1      2     2      1   \n",
       "3       3  ...     1     39         3     1         2      2     1      1   \n",
       "4       3  ...     2     38         1     2         2      2     2      1   \n",
       "\n",
       "   gastarb  kredit  \n",
       "0        2       1  \n",
       "1        2       1  \n",
       "2        2       1  \n",
       "3        1       1  \n",
       "4        1       1  \n",
       "\n",
       "[5 rows x 22 columns]"
      ]
     },
     "metadata": {},
     "output_type": "display_data"
    }
   ],
   "source": [
    "query = \"SELECT * FROM germancredit\"\n",
    "my_data = pd.read_sql(query, data_base)\n",
    "display(my_data.head())"
   ]
  },
  {
   "cell_type": "markdown",
   "metadata": {},
   "source": [
    "## Separação das variáveis de entrada e saída"
   ]
  },
  {
   "cell_type": "code",
   "execution_count": 49,
   "metadata": {},
   "outputs": [],
   "source": [
    "X = np.array(my_data.drop(['id', 'kredit'],axis=1)).reshape(-1, 20)\n",
    "y = np.array(my_data.kredit).reshape(-1, 1).reshape(-1)"
   ]
  },
  {
   "cell_type": "code",
   "execution_count": 50,
   "metadata": {},
   "outputs": [],
   "source": [
    "X_train, X_test, y_train, y_test = train_test_split(X,y,test_size=0.2)"
   ]
  },
  {
   "cell_type": "code",
   "execution_count": 51,
   "metadata": {},
   "outputs": [
    {
     "name": "stdout",
     "output_type": "stream",
     "text": [
      "shape of original dataset : (1000, 22)\n",
      "shape of input - training set (800, 20)\n",
      "shape of output - training set (800,)\n",
      "shape of input - testing set (200, 20)\n",
      "shape of output - testing set (200,)\n"
     ]
    }
   ],
   "source": [
    "print(\"shape of original dataset :\", my_data.shape)\n",
    "print(\"shape of input - training set\", X_train.shape)\n",
    "print(\"shape of output - training set\", y_train.shape)\n",
    "print(\"shape of input - testing set\", X_test.shape)\n",
    "print(\"shape of output - testing set\", y_test.shape)"
   ]
  },
  {
   "cell_type": "markdown",
   "metadata": {},
   "source": [
    "## Criação do modelo de classificação"
   ]
  },
  {
   "cell_type": "code",
   "execution_count": 56,
   "metadata": {},
   "outputs": [
    {
     "data": {
      "text/plain": [
       "Perceptron()"
      ]
     },
     "execution_count": 56,
     "metadata": {},
     "output_type": "execute_result"
    }
   ],
   "source": [
    "clf = Perceptron(tol=1e-3, random_state=0)\n",
    "clf.fit(X, y)"
   ]
  },
  {
   "cell_type": "markdown",
   "metadata": {},
   "source": [
    "## Métricas de avaliação"
   ]
  },
  {
   "cell_type": "code",
   "execution_count": 162,
   "metadata": {
    "scrolled": true
   },
   "outputs": [
    {
     "name": "stdout",
     "output_type": "stream",
     "text": [
      "Pontuação de classificação de precisão (quantidade de amostras de treinamento classificadas corretamente)\n",
      "\n",
      "Relatório de texto mostrando as principais métricas de classificação das amostras de treinamento\n",
      "              precision    recall  f1-score   support\n",
      "\n",
      "     class 0       0.30      1.00      0.46       238\n",
      "     class 1       1.00      0.00      0.00       562\n",
      "\n",
      "    accuracy                           0.30       800\n",
      "   macro avg       0.65      0.50      0.23       800\n",
      "weighted avg       0.79      0.30      0.14       800\n",
      "\n"
     ]
    }
   ],
   "source": [
    "y_train_pred = clf.predict(X_train)\n",
    "\n",
    "print(\"Pontuação de classificação de precisão (quantidade de amostras de treinamento classificadas corretamente)\")\n",
    "accuracy_score(y_train, y_train_pred, normalize = False)"
   ]
  },
  {
   "cell_type": "code",
   "execution_count": 90,
   "metadata": {
    "scrolled": false
   },
   "outputs": [
    {
     "name": "stdout",
     "output_type": "stream",
     "text": [
      "Relatório de texto mostrando as principais métricas de classificação das amostras de treinamento\n",
      "              precision    recall  f1-score   support\n",
      "\n",
      "     class 0       0.30      1.00      0.46       238\n",
      "     class 1       1.00      0.00      0.00       562\n",
      "\n",
      "    accuracy                           0.30       800\n",
      "   macro avg       0.65      0.50      0.23       800\n",
      "weighted avg       0.79      0.30      0.14       800\n",
      "\n"
     ]
    }
   ],
   "source": [
    "print(\"Relatório de texto mostrando as principais métricas de classificação das amostras de treinamento\")\n",
    "target_names = ['class 0', 'class 1']\n",
    "print(classification_report(y_train, y_train_pred, target_names = target_names, zero_division = 1))"
   ]
  },
  {
   "cell_type": "code",
   "execution_count": 91,
   "metadata": {},
   "outputs": [
    {
     "name": "stdout",
     "output_type": "stream",
     "text": [
      "Pontuação de classificação de precisão (quantidade de amostras de teste classificadas corretamente)\n"
     ]
    },
    {
     "data": {
      "text/plain": [
       "62"
      ]
     },
     "execution_count": 91,
     "metadata": {},
     "output_type": "execute_result"
    }
   ],
   "source": [
    "y_test_pred = clf.predict(X_test)\n",
    "\n",
    "print(\"Pontuação de classificação de precisão (quantidade de amostras de teste classificadas corretamente)\")\n",
    "accuracy_score(y_test, y_test_pred, normalize = False)"
   ]
  },
  {
   "cell_type": "code",
   "execution_count": 92,
   "metadata": {},
   "outputs": [
    {
     "name": "stdout",
     "output_type": "stream",
     "text": [
      "Relatório de texto mostrando as principais métricas de classificação das amostras de teste\n",
      "              precision    recall  f1-score   support\n",
      "\n",
      "     class 0       0.31      1.00      0.47        62\n",
      "     class 1       1.00      0.00      0.00       138\n",
      "\n",
      "    accuracy                           0.31       200\n",
      "   macro avg       0.66      0.50      0.24       200\n",
      "weighted avg       0.79      0.31      0.15       200\n",
      "\n"
     ]
    }
   ],
   "source": [
    "print(\"Relatório de texto mostrando as principais métricas de classificação das amostras de teste\")\n",
    "\n",
    "target_names = ['class 0', 'class 1']\n",
    "print(classification_report(y_test, y_test_pred, target_names = target_names, zero_division = 1))"
   ]
  },
  {
   "cell_type": "code",
   "execution_count": 142,
   "metadata": {},
   "outputs": [
    {
     "name": "stdout",
     "output_type": "stream",
     "text": [
      "laufkont:1\n",
      "laufzeit:18\n",
      "moral:4\n",
      "verw:2\n",
      "hoehe:1049\n",
      "sparkont:1\n",
      "beszeit:2\n",
      "rate:4\n",
      "famges:2\n",
      "buerge:1\n",
      "wohnzeit:4\n",
      "verm:2\n",
      "jahre:21\n",
      "weitkred:3\n",
      "wohn:1\n",
      "bishkred:1\n",
      "beruf:3\n",
      "pers:2\n",
      "telef:1\n",
      "gastarb:2\n"
     ]
    }
   ],
   "source": [
    "user_data = np.array([\n",
    "    int(input(\"laufkont:\")),\n",
    "    int(input(\"laufzeit:\")),\n",
    "    int(input(\"moral:\")),\n",
    "    int(input(\"verw:\")),\n",
    "    int(input(\"hoehe:\")),\n",
    "    int(input(\"sparkont:\")),\n",
    "    int(input(\"beszeit:\")),\n",
    "    int(input(\"rate:\")),\n",
    "    int(input(\"famges:\")),\n",
    "    int(input(\"buerge:\")),\n",
    "    int(input(\"wohnzeit:\")),\n",
    "    int(input(\"verm:\")),\n",
    "    int(input(\"jahre:\")),\n",
    "    int(input(\"weitkred:\")),\n",
    "    int(input(\"wohn:\")),\n",
    "    int(input(\"bishkred:\")),\n",
    "    int(input(\"beruf:\")),\n",
    "    int(input(\"pers:\")),\n",
    "    int(input(\"telef:\")),\n",
    "    int(input(\"gastarb:\"))\n",
    "])"
   ]
  },
  {
   "cell_type": "code",
   "execution_count": 160,
   "metadata": {},
   "outputs": [
    {
     "name": "stdout",
     "output_type": "stream",
     "text": [
      "Risco de crédito ruim!\n"
     ]
    }
   ],
   "source": [
    "user_data_pred = clf.predict([user_data])\n",
    "if user_data_pred == 0:\n",
    "    print(\"Risco de crédito ruim!\")\n",
    "else:\n",
    "    print(\"Risco de crédito bom!\")"
   ]
  }
 ],
 "metadata": {
  "kernelspec": {
   "display_name": "Python 3",
   "language": "python",
   "name": "python3"
  },
  "language_info": {
   "codemirror_mode": {
    "name": "ipython",
    "version": 3
   },
   "file_extension": ".py",
   "mimetype": "text/x-python",
   "name": "python",
   "nbconvert_exporter": "python",
   "pygments_lexer": "ipython3",
   "version": "3.8.5"
  }
 },
 "nbformat": 4,
 "nbformat_minor": 4
}
